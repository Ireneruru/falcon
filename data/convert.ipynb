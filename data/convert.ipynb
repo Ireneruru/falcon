{
 "cells": [
  {
   "cell_type": "code",
   "execution_count": 1,
   "metadata": {},
   "outputs": [],
   "source": [
    "import pandas as pd\n",
    "import pyarrow as pa\n",
    "import json\n",
    "from datetime import date, datetime"
   ]
  },
  {
   "cell_type": "code",
   "execution_count": 5,
   "metadata": {},
   "outputs": [
    {
     "name": "stdout",
     "output_type": "stream",
     "text": [
      "FlightDate,DepTime,DepDelay,ArrTime,ArrDelay,AirTime,Distance\n",
      "2006-01-01,0905,5.00,1229,19.00,350.00,2475.00\n",
      "2006-01-02,1147,167.00,1546,216.00,343.00,2475.00\n",
      "2006-01-03,0853,-7.00,1208,-2.00,344.00,2475.00\n",
      "2006-01-04,0855,-5.00,1157,-13.00,331.00,2475.00\n",
      "2006-01-05,0857,-3.00,1153,-17.00,321.00,2475.00\n",
      "2006-01-06,0856,-4.00,1138,-32.00,320.00,2475.00\n",
      "2006-01-08,0857,-3.00,1208,-2.00,346.00,2475.00\n",
      "2006-01-09,0903,3.00,1210,0.00,334.00,2475.00\n",
      "2006-01-10,0853,-7.00,1149,-21.00,334.00,2475.00\n"
     ]
    }
   ],
   "source": [
    "!head flights-10m.csv"
   ]
  },
  {
   "cell_type": "code",
   "execution_count": 6,
   "metadata": {},
   "outputs": [
    {
     "name": "stdout",
     "output_type": "stream",
     "text": [
      "FL_DATE,DEP_TIME,DEP_DELAY,ARR_TIME,ARR_DELAY,AIR_TIME,DISTANCE\n",
      "20060101,0905,5,1229,19,350,2475\n",
      "20060102,1147,167,1546,216,343,2475\n",
      "20060103,0853,-7,1208,-2,344,2475\n",
      "20060104,0855,-5,1157,-13,331,2475\n",
      "20060105,0857,-3,1153,-17,321,2475\n",
      "20060106,0856,-4,1138,-32,320,2475\n",
      "20060108,0857,-3,1208,-2,346,2475\n",
      "20060109,0903,3,1210,0,334,2475\n",
      "20060110,0853,-7,1149,-21,334,2475\n"
     ]
    }
   ],
   "source": [
    "!head flights-3m.csv"
   ]
  },
  {
   "cell_type": "code",
   "execution_count": 7,
   "metadata": {},
   "outputs": [],
   "source": [
    "def json_serial(obj):\n",
    "    return int(obj.strftime(\"%s\"))\n",
    "\n",
    "def build_arrow(name, with_json):\n",
    "    data = pd.read_csv(f'{name}.csv', encoding='utf-8', dtype={'FL_DATE': 'str', 'ARR_TIME': 'str', 'DEP_TIME': 'str'})\n",
    "    data = data.dropna()\n",
    "\n",
    "    arr_time = data.FL_DATE + data.ARR_TIME.replace('2400', '0000')\n",
    "    data['ARRIVAL'] = pd.to_datetime(arr_time, format='%Y%m%d%H%M')\n",
    "\n",
    "    dep_time = data.FL_DATE + data.DEP_TIME.replace('2400', '0000')\n",
    "    data['DEPARTURE'] = pd.to_datetime(dep_time, format='%Y%m%d%H%M')\n",
    "\n",
    "    data = data.drop(['FL_DATE', 'ARR_TIME', 'DEP_TIME'], axis=1)\n",
    "    if 'ORIGIN' in data.columns:\n",
    "        data = data.drop(['ORIGIN', 'DEST'], axis=1)\n",
    "\n",
    "    df = data.dropna()\n",
    "\n",
    "    if with_json:\n",
    "        d = {}\n",
    "        for column in df.columns:\n",
    "            d[column]=list(df[column])\n",
    "\n",
    "        with open(f'{name}.json', 'w') as f:\n",
    "            json.dump(d, f, default=json_serial, separators=(',', ':'))\n",
    "\n",
    "    df2 = df.astype({'DEP_DELAY': 'int16', 'ARR_DELAY': 'int16', 'AIR_TIME': 'int16', 'DISTANCE': 'int16'})\n",
    "\n",
    "    table = pa.Table.from_pandas(df2)\n",
    "\n",
    "    # table = table.column('ARRIVAL').cast(pa.TimestampValue, True)\n",
    "\n",
    "    writer = pa.RecordBatchFileWriter(f'{name}.arrow', table.schema)\n",
    "    writer.write(table)\n",
    "    writer.close()\n",
    "    \n",
    "# build_arrow('flights-10m', False)"
   ]
  },
  {
   "cell_type": "code",
   "execution_count": 14,
   "metadata": {},
   "outputs": [
    {
     "data": {
      "text/html": [
       "<div>\n",
       "<style scoped>\n",
       "    .dataframe tbody tr th:only-of-type {\n",
       "        vertical-align: middle;\n",
       "    }\n",
       "\n",
       "    .dataframe tbody tr th {\n",
       "        vertical-align: top;\n",
       "    }\n",
       "\n",
       "    .dataframe thead th {\n",
       "        text-align: right;\n",
       "    }\n",
       "</style>\n",
       "<table border=\"1\" class=\"dataframe\">\n",
       "  <thead>\n",
       "    <tr style=\"text-align: right;\">\n",
       "      <th></th>\n",
       "      <th>FlightDate</th>\n",
       "      <th>DepTime</th>\n",
       "      <th>DepDelay</th>\n",
       "      <th>ArrTime</th>\n",
       "      <th>ArrDelay</th>\n",
       "      <th>AirTime</th>\n",
       "      <th>Distance</th>\n",
       "    </tr>\n",
       "  </thead>\n",
       "  <tbody>\n",
       "    <tr>\n",
       "      <th>0</th>\n",
       "      <td>2006-01-01</td>\n",
       "      <td>0905</td>\n",
       "      <td>5.0</td>\n",
       "      <td>1229</td>\n",
       "      <td>19.0</td>\n",
       "      <td>350.0</td>\n",
       "      <td>2475.0</td>\n",
       "    </tr>\n",
       "    <tr>\n",
       "      <th>1</th>\n",
       "      <td>2006-01-02</td>\n",
       "      <td>1147</td>\n",
       "      <td>167.0</td>\n",
       "      <td>1546</td>\n",
       "      <td>216.0</td>\n",
       "      <td>343.0</td>\n",
       "      <td>2475.0</td>\n",
       "    </tr>\n",
       "    <tr>\n",
       "      <th>2</th>\n",
       "      <td>2006-01-03</td>\n",
       "      <td>0853</td>\n",
       "      <td>-7.0</td>\n",
       "      <td>1208</td>\n",
       "      <td>-2.0</td>\n",
       "      <td>344.0</td>\n",
       "      <td>2475.0</td>\n",
       "    </tr>\n",
       "    <tr>\n",
       "      <th>3</th>\n",
       "      <td>2006-01-04</td>\n",
       "      <td>0855</td>\n",
       "      <td>-5.0</td>\n",
       "      <td>1157</td>\n",
       "      <td>-13.0</td>\n",
       "      <td>331.0</td>\n",
       "      <td>2475.0</td>\n",
       "    </tr>\n",
       "    <tr>\n",
       "      <th>4</th>\n",
       "      <td>2006-01-05</td>\n",
       "      <td>0857</td>\n",
       "      <td>-3.0</td>\n",
       "      <td>1153</td>\n",
       "      <td>-17.0</td>\n",
       "      <td>321.0</td>\n",
       "      <td>2475.0</td>\n",
       "    </tr>\n",
       "  </tbody>\n",
       "</table>\n",
       "</div>"
      ],
      "text/plain": [
       "   FlightDate DepTime  DepDelay ArrTime  ArrDelay  AirTime  Distance\n",
       "0  2006-01-01    0905       5.0    1229      19.0    350.0    2475.0\n",
       "1  2006-01-02    1147     167.0    1546     216.0    343.0    2475.0\n",
       "2  2006-01-03    0853      -7.0    1208      -2.0    344.0    2475.0\n",
       "3  2006-01-04    0855      -5.0    1157     -13.0    331.0    2475.0\n",
       "4  2006-01-05    0857      -3.0    1153     -17.0    321.0    2475.0"
      ]
     },
     "execution_count": 14,
     "metadata": {},
     "output_type": "execute_result"
    }
   ],
   "source": [
    "data = pd.read_csv(f'flights-10m.csv', encoding='utf-8', dtype={'FlightDate': 'str', 'ArrTime': 'str', 'DepTime': 'str'})\n",
    "data = data.dropna()\n",
    "\n",
    "data.head()"
   ]
  },
  {
   "cell_type": "code",
   "execution_count": 16,
   "metadata": {},
   "outputs": [],
   "source": [
    "data = data.rename(index=str, columns={\"FlightDate\": \"FL_DATE\", \"DepTime\": \"DEP_TIME\", \"ArrTime\": \"ARR_TIME\", \"Distance\": \"DISTANCE\", \"AirTime\": \"AIR_TIME\", \"DepDelay\": \"DEP_DELAY\", \"ArrDelay\": \"ARR_DELAY\"})\n",
    "\n",
    "arr_time = data.FL_DATE + data.ARR_TIME.replace('2400', '0000')\n",
    "data['ARRIVAL'] = pd.to_datetime(arr_time, format='%Y-%m-%d%H%M')\n",
    "\n",
    "dep_time = data.FL_DATE + data.DEP_TIME.replace('2400', '0000')\n",
    "data['DEPARTURE'] = pd.to_datetime(dep_time, format='%Y-%m-%d%H%M')\n",
    "\n",
    "data = data.drop(['FL_DATE', 'ARR_TIME', 'DEP_TIME'], axis=1)\n",
    "if 'ORIGIN' in data.columns:\n",
    "    data = data.drop(['ORIGIN', 'DEST'], axis=1)\n",
    "\n",
    "df = data.dropna()\n",
    "\n",
    "df2 = df.astype({'DEP_DELAY': 'int16', 'ARR_DELAY': 'int16', 'AIR_TIME': 'int16', 'DISTANCE': 'int16'})\n",
    "\n",
    "table = pa.Table.from_pandas(df2)\n",
    "\n",
    "# table = table.column('ARRIVAL').cast(pa.TimestampValue, True)\n",
    "\n",
    "writer = pa.RecordBatchFileWriter(f'flights-10m.arrow', table.schema)\n",
    "writer.write(table)\n",
    "writer.close()"
   ]
  },
  {
   "cell_type": "code",
   "execution_count": 8,
   "metadata": {},
   "outputs": [
    {
     "name": "stdout",
     "output_type": "stream",
     "text": [
      "flights-10k\n",
      "flights-200k\n"
     ]
    }
   ],
   "source": [
    "for name in ['flights-10k', 'flights-200k', 'flights-500k', 'flights-1m', 'flights-3m', 'flights-10m']:\n",
    "    print(name)\n",
    "    \n",
    "    build_arrow(name, False)"
   ]
  },
  {
   "cell_type": "code",
   "execution_count": 7,
   "metadata": {},
   "outputs": [
    {
     "name": "stdout",
     "output_type": "stream",
     "text": [
      "total 717528\n",
      "drwxr-xr-x@ 20 domoritz  staff   640B Jun 11 18:06 \u001b[34m.\u001b[m\u001b[m\n",
      "drwxr-xr-x  24 domoritz  staff   768B Jun 10 19:59 \u001b[34m..\u001b[m\u001b[m\n",
      "-rw-r--r--@  1 domoritz  staff   6.0K Nov 29  2017 .DS_Store\n",
      "drwxr-xr-x   4 domoritz  staff   128B Jun  8 22:36 \u001b[34m.ipynb_checkpoints\u001b[m\u001b[m\n",
      "-rw-r--r--@  1 domoritz  staff    28M Nov 28  2017 564230852_T_ONTIME.csv\n",
      "-rw-r--r--@  1 domoritz  staff   6.3M Nov 28  2017 564230852_T_ONTIME.zip\n",
      "-rw-r--r--   1 domoritz  staff   4.5K Jun 11 18:06 convert.ipynb\n",
      "-rw-r--r--   1 domoritz  staff   316K Jun 11 18:06 flights-10k.arrow\n",
      "-rw-r--r--   1 domoritz  staff   400K Nov 29  2017 flights-10k.csv\n",
      "-rw-r--r--   1 domoritz  staff   409K Jun  8 22:39 flights-10k.json\n",
      "-rw-r--r--   1 domoritz  staff    30M Jun  8 22:44 flights-1m.arrow\n",
      "-rw-r--r--   1 domoritz  staff    31M Nov 29  2017 flights-1m.csv\n",
      "-rw-r--r--   1 domoritz  staff   5.8M Jun 11 15:06 flights-200k.arrow\n",
      "-rw-r--r--   1 domoritz  staff   7.7M Feb 13 21:44 flights-200k.csv\n",
      "-rw-r--r--   1 domoritz  staff   7.9M Jun  8 22:40 flights-200k.json\n",
      "-rw-r--r--   1 domoritz  staff    90M Jun  8 22:45 flights-3m.arrow\n",
      "-rw-r--r--   1 domoritz  staff    92M Nov 29  2017 flights-3m.csv\n",
      "-rw-r--r--   1 domoritz  staff    13M Jun 11 15:04 flights-500k.arrow\n",
      "-rw-r--r--@  1 domoritz  staff    18M Feb 13 21:44 flights-500k.csv\n",
      "-rw-r--r--   1 domoritz  staff    18M Jun  8 22:33 flights-500k.json\n"
     ]
    }
   ],
   "source": [
    "!ls -lah"
   ]
  },
  {
   "cell_type": "code",
   "execution_count": null,
   "metadata": {},
   "outputs": [],
   "source": []
  }
 ],
 "metadata": {
  "kernelspec": {
   "display_name": "Python 3",
   "language": "python",
   "name": "python3"
  },
  "language_info": {
   "codemirror_mode": {
    "name": "ipython",
    "version": 3
   },
   "file_extension": ".py",
   "mimetype": "text/x-python",
   "name": "python",
   "nbconvert_exporter": "python",
   "pygments_lexer": "ipython3",
   "version": "3.6.5"
  }
 },
 "nbformat": 4,
 "nbformat_minor": 2
}
