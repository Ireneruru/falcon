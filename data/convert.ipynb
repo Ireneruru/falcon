{
 "cells": [
  {
   "cell_type": "code",
   "execution_count": 9,
   "metadata": {},
   "outputs": [],
   "source": [
    "import pandas as pd\n",
    "import pyarrow as pa\n",
    "import numpy as np\n",
    "import json\n",
    "from datetime import date, datetime"
   ]
  },
  {
   "cell_type": "code",
   "execution_count": 2,
   "metadata": {},
   "outputs": [],
   "source": [
    "with_json = False"
   ]
  },
  {
   "cell_type": "code",
   "execution_count": 3,
   "metadata": {},
   "outputs": [],
   "source": [
    "def json_serial(obj):\n",
    "    return int(obj.strftime(\"%s\"))"
   ]
  },
  {
   "cell_type": "code",
   "execution_count": 14,
   "metadata": {},
   "outputs": [
    {
     "data": {
      "text/html": [
       "<div>\n",
       "<style scoped>\n",
       "    .dataframe tbody tr th:only-of-type {\n",
       "        vertical-align: middle;\n",
       "    }\n",
       "\n",
       "    .dataframe tbody tr th {\n",
       "        vertical-align: top;\n",
       "    }\n",
       "\n",
       "    .dataframe thead th {\n",
       "        text-align: right;\n",
       "    }\n",
       "</style>\n",
       "<table border=\"1\" class=\"dataframe\">\n",
       "  <thead>\n",
       "    <tr style=\"text-align: right;\">\n",
       "      <th></th>\n",
       "      <th>FlightDate</th>\n",
       "      <th>DepTime</th>\n",
       "      <th>DepDelay</th>\n",
       "      <th>ArrTime</th>\n",
       "      <th>ArrDelay</th>\n",
       "      <th>AirTime</th>\n",
       "      <th>Distance</th>\n",
       "    </tr>\n",
       "  </thead>\n",
       "  <tbody>\n",
       "    <tr>\n",
       "      <th>0</th>\n",
       "      <td>2006-01-01</td>\n",
       "      <td>0905</td>\n",
       "      <td>5.0</td>\n",
       "      <td>1229</td>\n",
       "      <td>19.0</td>\n",
       "      <td>350.0</td>\n",
       "      <td>2475.0</td>\n",
       "    </tr>\n",
       "    <tr>\n",
       "      <th>1</th>\n",
       "      <td>2006-01-02</td>\n",
       "      <td>1147</td>\n",
       "      <td>167.0</td>\n",
       "      <td>1546</td>\n",
       "      <td>216.0</td>\n",
       "      <td>343.0</td>\n",
       "      <td>2475.0</td>\n",
       "    </tr>\n",
       "    <tr>\n",
       "      <th>2</th>\n",
       "      <td>2006-01-03</td>\n",
       "      <td>0853</td>\n",
       "      <td>-7.0</td>\n",
       "      <td>1208</td>\n",
       "      <td>-2.0</td>\n",
       "      <td>344.0</td>\n",
       "      <td>2475.0</td>\n",
       "    </tr>\n",
       "    <tr>\n",
       "      <th>3</th>\n",
       "      <td>2006-01-04</td>\n",
       "      <td>0855</td>\n",
       "      <td>-5.0</td>\n",
       "      <td>1157</td>\n",
       "      <td>-13.0</td>\n",
       "      <td>331.0</td>\n",
       "      <td>2475.0</td>\n",
       "    </tr>\n",
       "    <tr>\n",
       "      <th>4</th>\n",
       "      <td>2006-01-05</td>\n",
       "      <td>0857</td>\n",
       "      <td>-3.0</td>\n",
       "      <td>1153</td>\n",
       "      <td>-17.0</td>\n",
       "      <td>321.0</td>\n",
       "      <td>2475.0</td>\n",
       "    </tr>\n",
       "  </tbody>\n",
       "</table>\n",
       "</div>"
      ],
      "text/plain": [
       "   FlightDate DepTime  DepDelay ArrTime  ArrDelay  AirTime  Distance\n",
       "0  2006-01-01    0905       5.0    1229      19.0    350.0    2475.0\n",
       "1  2006-01-02    1147     167.0    1546     216.0    343.0    2475.0\n",
       "2  2006-01-03    0853      -7.0    1208      -2.0    344.0    2475.0\n",
       "3  2006-01-04    0855      -5.0    1157     -13.0    331.0    2475.0\n",
       "4  2006-01-05    0857      -3.0    1153     -17.0    321.0    2475.0"
      ]
     },
     "execution_count": 14,
     "metadata": {},
     "output_type": "execute_result"
    }
   ],
   "source": [
    "data = pd.read_csv(f'flights-10m.csv', encoding='utf-8', dtype={'FlightDate': 'str', 'ArrTime': 'str', 'DepTime': 'str'})\n",
    "data = data.dropna()\n",
    "\n",
    "data.head()"
   ]
  },
  {
   "cell_type": "code",
   "execution_count": 15,
   "metadata": {},
   "outputs": [],
   "source": [
    "renamed = data.rename(index=str, columns={\"FlightDate\": \"FL_DATE\", \"DepTime\": \"DEP_TIME\", \"ArrTime\": \"ARR_TIME\", \"Distance\": \"DISTANCE\", \"AirTime\": \"AIR_TIME\", \"DepDelay\": \"DEP_DELAY\", \"ArrDelay\": \"ARR_DELAY\"})\n",
    "\n",
    "renamed['FL_DATE'] = pd.to_datetime(renamed.FL_DATE, format='%Y-%m-%d').dt.date\n",
    "\n",
    "renamed['DEP_TIME'] = renamed.DEP_TIME.replace('2400', '0000')\n",
    "renamed['ARR_TIME'] = renamed.ARR_TIME.replace('2400', '0000')\n",
    "\n",
    "def toTime(col):\n",
    "    col = pd.to_numeric(col)\n",
    "    col = (col/100).apply(np.floor) + (col.mod(100)) / 60.\n",
    "    return col\n",
    "\n",
    "renamed['DEP_TIME'] = toTime(renamed['DEP_TIME'])\n",
    "renamed['ARR_TIME'] = toTime(renamed['ARR_TIME'])\n",
    "\n",
    "if 'ORIGIN' in renamed.columns:\n",
    "    renamed = renamed.drop(['ORIGIN', 'DEST'], axis=1)\n",
    "\n",
    "cleaned = renamed.dropna()\n",
    "\n",
    "right_types = cleaned.astype({\n",
    "    'DEP_DELAY': 'int16',\n",
    "    'ARR_DELAY': 'int16',\n",
    "    'AIR_TIME': 'int16',\n",
    "    'DISTANCE': 'int16',\n",
    "    'DEP_TIME': 'float32',\n",
    "    'ARR_TIME': 'float32'\n",
    "})\n"
   ]
  },
  {
   "cell_type": "code",
   "execution_count": 16,
   "metadata": {},
   "outputs": [
    {
     "data": {
      "text/html": [
       "<div>\n",
       "<style scoped>\n",
       "    .dataframe tbody tr th:only-of-type {\n",
       "        vertical-align: middle;\n",
       "    }\n",
       "\n",
       "    .dataframe tbody tr th {\n",
       "        vertical-align: top;\n",
       "    }\n",
       "\n",
       "    .dataframe thead th {\n",
       "        text-align: right;\n",
       "    }\n",
       "</style>\n",
       "<table border=\"1\" class=\"dataframe\">\n",
       "  <thead>\n",
       "    <tr style=\"text-align: right;\">\n",
       "      <th></th>\n",
       "      <th>FL_DATE</th>\n",
       "      <th>DEP_TIME</th>\n",
       "      <th>DEP_DELAY</th>\n",
       "      <th>ARR_TIME</th>\n",
       "      <th>ARR_DELAY</th>\n",
       "      <th>AIR_TIME</th>\n",
       "      <th>DISTANCE</th>\n",
       "    </tr>\n",
       "  </thead>\n",
       "  <tbody>\n",
       "    <tr>\n",
       "      <th>0</th>\n",
       "      <td>2006-01-01</td>\n",
       "      <td>9.083333</td>\n",
       "      <td>5</td>\n",
       "      <td>12.483334</td>\n",
       "      <td>19</td>\n",
       "      <td>350</td>\n",
       "      <td>2475</td>\n",
       "    </tr>\n",
       "    <tr>\n",
       "      <th>1</th>\n",
       "      <td>2006-01-02</td>\n",
       "      <td>11.783334</td>\n",
       "      <td>167</td>\n",
       "      <td>15.766666</td>\n",
       "      <td>216</td>\n",
       "      <td>343</td>\n",
       "      <td>2475</td>\n",
       "    </tr>\n",
       "    <tr>\n",
       "      <th>2</th>\n",
       "      <td>2006-01-03</td>\n",
       "      <td>8.883333</td>\n",
       "      <td>-7</td>\n",
       "      <td>12.133333</td>\n",
       "      <td>-2</td>\n",
       "      <td>344</td>\n",
       "      <td>2475</td>\n",
       "    </tr>\n",
       "    <tr>\n",
       "      <th>3</th>\n",
       "      <td>2006-01-04</td>\n",
       "      <td>8.916667</td>\n",
       "      <td>-5</td>\n",
       "      <td>11.950000</td>\n",
       "      <td>-13</td>\n",
       "      <td>331</td>\n",
       "      <td>2475</td>\n",
       "    </tr>\n",
       "    <tr>\n",
       "      <th>4</th>\n",
       "      <td>2006-01-05</td>\n",
       "      <td>8.950000</td>\n",
       "      <td>-3</td>\n",
       "      <td>11.883333</td>\n",
       "      <td>-17</td>\n",
       "      <td>321</td>\n",
       "      <td>2475</td>\n",
       "    </tr>\n",
       "  </tbody>\n",
       "</table>\n",
       "</div>"
      ],
      "text/plain": [
       "      FL_DATE   DEP_TIME  DEP_DELAY   ARR_TIME  ARR_DELAY  AIR_TIME  DISTANCE\n",
       "0  2006-01-01   9.083333          5  12.483334         19       350      2475\n",
       "1  2006-01-02  11.783334        167  15.766666        216       343      2475\n",
       "2  2006-01-03   8.883333         -7  12.133333         -2       344      2475\n",
       "3  2006-01-04   8.916667         -5  11.950000        -13       331      2475\n",
       "4  2006-01-05   8.950000         -3  11.883333        -17       321      2475"
      ]
     },
     "execution_count": 16,
     "metadata": {},
     "output_type": "execute_result"
    }
   ],
   "source": [
    "right_types.head()"
   ]
  },
  {
   "cell_type": "code",
   "execution_count": 17,
   "metadata": {},
   "outputs": [
    {
     "name": "stdout",
     "output_type": "stream",
     "text": [
      "flights-10k\n",
      "flights-200k\n",
      "flights-500k\n",
      "flights-1m\n",
      "flights-3m\n",
      "flights-10m\n"
     ]
    }
   ],
   "source": [
    "for size, name in [(10000, 'flights-10k'), (200000, 'flights-200k'), (500000, 'flights-500k'), (1000000, 'flights-1m'), (3000000, 'flights-3m'), (10000000, 'flights-10m')]:\n",
    "    print(name)\n",
    "\n",
    "    smaller = right_types[:size+1]\n",
    "    \n",
    "    table = pa.Table.from_pandas(smaller)\n",
    "    \n",
    "    if with_json:\n",
    "        d = {}\n",
    "        for column in smaller.columns:\n",
    "            d[column]=list(smaller[column])\n",
    "\n",
    "        with open(f'{name}.json', 'w') as f:\n",
    "            json.dump(d, f, default=json_serial, separators=(',', ':'))\n",
    "\n",
    "    # table = table.column('ARRIVAL').cast(pa.TimestampValue, True)\n",
    "\n",
    "    writer = pa.RecordBatchFileWriter(f'{name}.arrow', table.schema)\n",
    "    writer.write(table)\n",
    "    writer.close()"
   ]
  },
  {
   "cell_type": "code",
   "execution_count": 18,
   "metadata": {},
   "outputs": [
    {
     "name": "stdout",
     "output_type": "stream",
     "text": [
      "total 2182336\n",
      "drwxr-xr-x@ 20 domoritz  staff   640B Jun 29 14:50 \u001b[34m.\u001b[m\u001b[m\n",
      "drwxr-xr-x  24 domoritz  staff   768B Jun 28 18:35 \u001b[34m..\u001b[m\u001b[m\n",
      "-rw-r--r--@  1 domoritz  staff   6.0K Nov 29  2017 .DS_Store\n",
      "drwxr-xr-x   5 domoritz  staff   160B Jun 13 13:55 \u001b[34m.ipynb_checkpoints\u001b[m\u001b[m\n",
      "-rw-r--r--@  1 domoritz  staff    28M Nov 28  2017 564230852_T_ONTIME.csv\n",
      "-rw-r--r--@  1 domoritz  staff   6.3M Nov 28  2017 564230852_T_ONTIME.zip\n",
      "-rw-r--r--   1 domoritz  staff   4.0K Jun 29 14:50 convert.ipynb\n",
      "-rw-r--r--   1 domoritz  staff   276K Jun 29 14:51 flights-10k.arrow\n",
      "-rw-r--r--   1 domoritz  staff   400K Nov 29  2017 flights-10k.csv\n",
      "-rw-r--r--   1 domoritz  staff   409K Jun  8 22:39 flights-10k.json\n",
      "-rw-r--r--   1 domoritz  staff   288M Jun 29 14:51 flights-10m.arrow\n",
      "-rw-r--r--   1 domoritz  staff   439M Jun 16 10:21 flights-10m.csv\n",
      "-rw-r--r--   1 domoritz  staff    29M Jun 29 14:51 flights-1m.arrow\n",
      "-rw-r--r--   1 domoritz  staff    31M Nov 29  2017 flights-1m.csv\n",
      "-rw-r--r--   1 domoritz  staff   5.6M Jun 29 14:51 flights-200k.arrow\n",
      "-rw-r--r--   1 domoritz  staff   7.7M Feb 13 21:44 flights-200k.csv\n",
      "-rw-r--r--   1 domoritz  staff    88M Jun 29 14:51 flights-3m.arrow\n",
      "-rw-r--r--   1 domoritz  staff    92M Nov 29  2017 flights-3m.csv\n",
      "-rw-r--r--   1 domoritz  staff    14M Jun 29 14:51 flights-500k.arrow\n",
      "-rw-r--r--@  1 domoritz  staff    18M Feb 13 21:44 flights-500k.csv\n"
     ]
    }
   ],
   "source": [
    "!ls -lah"
   ]
  },
  {
   "cell_type": "code",
   "execution_count": null,
   "metadata": {},
   "outputs": [],
   "source": []
  }
 ],
 "metadata": {
  "kernelspec": {
   "display_name": "Python 3",
   "language": "python",
   "name": "python3"
  },
  "language_info": {
   "codemirror_mode": {
    "name": "ipython",
    "version": 3
   },
   "file_extension": ".py",
   "mimetype": "text/x-python",
   "name": "python",
   "nbconvert_exporter": "python",
   "pygments_lexer": "ipython3",
   "version": "3.6.5"
  }
 },
 "nbformat": 4,
 "nbformat_minor": 2
}
