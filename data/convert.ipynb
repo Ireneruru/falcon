{
 "cells": [
  {
   "cell_type": "code",
   "execution_count": 217,
   "metadata": {},
   "outputs": [],
   "source": [
    "import pandas as pd\n",
    "import pyarrow as pa\n",
    "import json"
   ]
  },
  {
   "cell_type": "code",
   "execution_count": 229,
   "metadata": {},
   "outputs": [],
   "source": [
    "data = pd.read_csv('./flights-10k.csv', encoding='utf-8', dtype={'FL_DATE': 'str', 'ARR_TIME': 'str', 'DEP_TIME': 'str'})"
   ]
  },
  {
   "cell_type": "code",
   "execution_count": 232,
   "metadata": {},
   "outputs": [],
   "source": [
    "arr_time = data.FL_DATE + data.ARR_TIME.replace('2400', '0000')\n",
    "data['ARRIVAL'] = pd.to_datetime(arr_time, format='%Y%m%d%H%M')\n",
    "\n",
    "dep_time = data.FL_DATE + data.DEP_TIME.replace('2400', '0000')\n",
    "data['DEPARTURE'] = pd.to_datetime(dep_time, format='%Y%m%d%H%M')"
   ]
  },
  {
   "cell_type": "code",
   "execution_count": 238,
   "metadata": {},
   "outputs": [],
   "source": [
    "df = data.drop(['FL_DATE', 'ORIGIN', 'DEST', 'ARR_TIME', 'DEP_TIME'], axis=1).dropna()"
   ]
  },
  {
   "cell_type": "code",
   "execution_count": 239,
   "metadata": {},
   "outputs": [
    {
     "data": {
      "text/html": [
       "<div>\n",
       "<style scoped>\n",
       "    .dataframe tbody tr th:only-of-type {\n",
       "        vertical-align: middle;\n",
       "    }\n",
       "\n",
       "    .dataframe tbody tr th {\n",
       "        vertical-align: top;\n",
       "    }\n",
       "\n",
       "    .dataframe thead th {\n",
       "        text-align: right;\n",
       "    }\n",
       "</style>\n",
       "<table border=\"1\" class=\"dataframe\">\n",
       "  <thead>\n",
       "    <tr style=\"text-align: right;\">\n",
       "      <th></th>\n",
       "      <th>DEP_DELAY</th>\n",
       "      <th>ARR_DELAY</th>\n",
       "      <th>AIR_TIME</th>\n",
       "      <th>DISTANCE</th>\n",
       "      <th>ARRIVAL</th>\n",
       "      <th>DEPARTURE</th>\n",
       "    </tr>\n",
       "  </thead>\n",
       "  <tbody>\n",
       "    <tr>\n",
       "      <th>0</th>\n",
       "      <td>72.0</td>\n",
       "      <td>43.0</td>\n",
       "      <td>109.0</td>\n",
       "      <td>954</td>\n",
       "      <td>2016-12-01 23:59:00</td>\n",
       "      <td>2016-12-01 21:39:00</td>\n",
       "    </tr>\n",
       "    <tr>\n",
       "      <th>1</th>\n",
       "      <td>-4.0</td>\n",
       "      <td>-9.0</td>\n",
       "      <td>201.0</td>\n",
       "      <td>1437</td>\n",
       "      <td>2016-12-01 12:33:00</td>\n",
       "      <td>2016-12-01 09:51:00</td>\n",
       "    </tr>\n",
       "    <tr>\n",
       "      <th>2</th>\n",
       "      <td>90.0</td>\n",
       "      <td>92.0</td>\n",
       "      <td>191.0</td>\n",
       "      <td>1258</td>\n",
       "      <td>2016-12-01 16:12:00</td>\n",
       "      <td>2016-12-01 12:32:00</td>\n",
       "    </tr>\n",
       "    <tr>\n",
       "      <th>3</th>\n",
       "      <td>-4.0</td>\n",
       "      <td>-31.0</td>\n",
       "      <td>147.0</td>\n",
       "      <td>1258</td>\n",
       "      <td>2016-12-01 09:38:00</td>\n",
       "      <td>2016-12-01 06:56:00</td>\n",
       "    </tr>\n",
       "    <tr>\n",
       "      <th>4</th>\n",
       "      <td>-4.0</td>\n",
       "      <td>3.0</td>\n",
       "      <td>137.0</td>\n",
       "      <td>1012</td>\n",
       "      <td>2016-12-01 12:35:00</td>\n",
       "      <td>2016-12-01 08:51:00</td>\n",
       "    </tr>\n",
       "  </tbody>\n",
       "</table>\n",
       "</div>"
      ],
      "text/plain": [
       "   DEP_DELAY  ARR_DELAY  AIR_TIME  DISTANCE             ARRIVAL  \\\n",
       "0       72.0       43.0     109.0       954 2016-12-01 23:59:00   \n",
       "1       -4.0       -9.0     201.0      1437 2016-12-01 12:33:00   \n",
       "2       90.0       92.0     191.0      1258 2016-12-01 16:12:00   \n",
       "3       -4.0      -31.0     147.0      1258 2016-12-01 09:38:00   \n",
       "4       -4.0        3.0     137.0      1012 2016-12-01 12:35:00   \n",
       "\n",
       "            DEPARTURE  \n",
       "0 2016-12-01 21:39:00  \n",
       "1 2016-12-01 09:51:00  \n",
       "2 2016-12-01 12:32:00  \n",
       "3 2016-12-01 06:56:00  \n",
       "4 2016-12-01 08:51:00  "
      ]
     },
     "execution_count": 239,
     "metadata": {},
     "output_type": "execute_result"
    }
   ],
   "source": [
    "df.head()"
   ]
  },
  {
   "cell_type": "code",
   "execution_count": 243,
   "metadata": {},
   "outputs": [],
   "source": [
    "from datetime import date, datetime\n",
    "\n",
    "def json_serial(obj):\n",
    "    return int(obj.strftime(\"%s\"))\n",
    "\n",
    "d = {}\n",
    "for column in df.columns:\n",
    "    d[column]=list(df[column])\n",
    "\n",
    "with open('flights-10k.json', 'w') as f:\n",
    "    json.dump(d, f, default=json_serial, separators=(',', ':'))"
   ]
  },
  {
   "cell_type": "code",
   "execution_count": 166,
   "metadata": {},
   "outputs": [],
   "source": [
    "table = pa.Table.from_pandas(df)"
   ]
  },
  {
   "cell_type": "code",
   "execution_count": 167,
   "metadata": {},
   "outputs": [],
   "source": [
    "writer = pa.RecordBatchFileWriter('flights-10k.arrow', table.schema)\n",
    "writer.write(table)\n",
    "writer.close()"
   ]
  },
  {
   "cell_type": "code",
   "execution_count": 168,
   "metadata": {},
   "outputs": [
    {
     "name": "stdout",
     "output_type": "stream",
     "text": [
      "total 377632\n",
      "drwxr-xr-x@ 13 domoritz  staff   416B Jun  8 14:38 \u001b[34m.\u001b[m\u001b[m\n",
      "drwxr-xr-x  24 domoritz  staff   768B Jun  8 01:20 \u001b[34m..\u001b[m\u001b[m\n",
      "-rw-r--r--@  1 domoritz  staff   6.0K Nov 29  2017 .DS_Store\n",
      "drwxr-xr-x   3 domoritz  staff    96B Jun  7 23:57 \u001b[34m.ipynb_checkpoints\u001b[m\u001b[m\n",
      "-rw-r--r--@  1 domoritz  staff    28M Nov 28  2017 564230852_T_ONTIME.csv\n",
      "-rw-r--r--@  1 domoritz  staff   6.3M Nov 28  2017 564230852_T_ONTIME.zip\n",
      "-rw-r--r--   1 domoritz  staff   7.0K Jun  8 14:38 convert.ipynb\n",
      "-rw-r--r--   1 domoritz  staff   557K Jun  8 14:39 flights-10k.arrow\n",
      "-rw-r--r--   1 domoritz  staff   400K Nov 29  2017 flights-10k.csv\n",
      "-rw-r--r--   1 domoritz  staff    31M Nov 29  2017 flights-1m.csv\n",
      "-rw-r--r--   1 domoritz  staff   7.7M Feb 13 21:44 flights-200k.csv\n",
      "-rw-r--r--   1 domoritz  staff    92M Nov 29  2017 flights-3m.csv\n",
      "-rw-r--r--@  1 domoritz  staff    18M Feb 13 21:44 flights-500k.csv\n"
     ]
    }
   ],
   "source": [
    "!ls -lah"
   ]
  },
  {
   "cell_type": "code",
   "execution_count": null,
   "metadata": {},
   "outputs": [],
   "source": []
  }
 ],
 "metadata": {
  "kernelspec": {
   "display_name": "Python 3",
   "language": "python",
   "name": "python3"
  },
  "language_info": {
   "codemirror_mode": {
    "name": "ipython",
    "version": 3
   },
   "file_extension": ".py",
   "mimetype": "text/x-python",
   "name": "python",
   "nbconvert_exporter": "python",
   "pygments_lexer": "ipython3",
   "version": "3.6.5"
  }
 },
 "nbformat": 4,
 "nbformat_minor": 2
}
